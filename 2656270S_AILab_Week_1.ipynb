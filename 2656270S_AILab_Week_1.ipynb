{
 "cells": [
  {
   "cell_type": "markdown",
   "id": "9cef12f7",
   "metadata": {},
   "source": [
    "## Week 1: Getting started with Anaconda, Jupyter Notebook and Python "
   ]
  },
  {
   "cell_type": "markdown",
   "id": "33d59da8",
   "metadata": {},
   "source": [
    "a) Why i chose to join this course? - i chose to join this course because i find AI quite interesting and as it is becoming more prevalent in society i wanted to learn more about it. \n",
    "\n",
    "b) I have no prior experience with AI or with coding such as Python or any coding similar. I do have some basic knowledge and skills with HTML coding. \n",
    "\n",
    "c) What i expect to learn from the course:\n",
    "- More about how AI operates and functions \n",
    "- Some ethics regarding the uses of AI\n",
    "- New ventures and emerging uses of AI"
   ]
  },
  {
   "cell_type": "code",
   "execution_count": 1,
   "id": "76d80b20",
   "metadata": {},
   "outputs": [
    {
     "data": {
      "text/plain": [
       "'Hello, World!'"
      ]
     },
     "execution_count": 1,
     "metadata": {},
     "output_type": "execute_result"
    }
   ],
   "source": [
    "\"Hello, World!\""
   ]
  },
  {
   "cell_type": "code",
   "execution_count": 10,
   "id": "1c4e9f26",
   "metadata": {},
   "outputs": [
    {
     "name": "stdout",
     "output_type": "stream",
     "text": [
      "H\n"
     ]
    }
   ],
   "source": [
    "message = \"Hello World!\"\n",
    "\n",
    "print (message[0])"
   ]
  },
  {
   "cell_type": "markdown",
   "id": "15215548",
   "metadata": {},
   "source": [
    "What happens if you print messasge + message ? - it displays hello world twice \n",
    "\n",
    "What happens when you print message*3 ? - it prints hello world three times \n",
    "\n",
    "What happens when you print message [0] ? - it just prints H\n",
    "\n",
    "How to change 'message' as a variable name? - i think message is a good variable name, however if it is changed to a new variable name, then that same name will need to be used in the print line as well otherwise the old 'message' will print instead. "
   ]
  },
  {
   "cell_type": "code",
   "execution_count": 11,
   "id": "848c0c1f",
   "metadata": {},
   "outputs": [],
   "source": [
    "from IPython.display import * "
   ]
  },
  {
   "cell_type": "code",
   "execution_count": 18,
   "id": "ba5699a1",
   "metadata": {},
   "outputs": [
    {
     "data": {
      "image/jpeg": "[encoded data removed]",
      "text/html": [
       "\n",
       "        <iframe\n",
       "            width=\"400\"\n",
       "            height=\"300\"\n",
       "            src=\"https://www.youtube.com/embed/dQw4w9WgXcQ\"\n",
       "            frameborder=\"0\"\n",
       "            allowfullscreen\n",
       "            \n",
       "        ></iframe>\n",
       "        "
      ],
      "text/plain": [
       "<IPython.lib.display.YouTubeVideo at 0x17d409ca200>"
      ]
     },
     "execution_count": 18,
     "metadata": {},
     "output_type": "execute_result"
    }
   ],
   "source": [
    "YouTubeVideo(\"dQw4w9WgXcQ\")"
   ]
  },
  {
   "cell_type": "code",
   "execution_count": 19,
   "id": "a249a53c",
   "metadata": {},
   "outputs": [
    {
     "name": "stdout",
     "output_type": "stream",
     "text": [
      "Shall we hunt down an old website?\n",
      "Type a website URL: www.google.com\n",
      "Type year, month, and date, e.g., 20150613: 20160930\n",
      "Found this copy:  http://web.archive.org/web/20160930235518/http://www.google.com/\n",
      "It should appear in your browser.\n"
     ]
    }
   ],
   "source": [
    "import webbrowser #this is importing a library\n",
    "import requests  #this is importing a library\n",
    "\n",
    "print(\"Shall we hunt down an old website?\") #this is printing the text\n",
    "site = input(\"Type a website URL: \") #this is assigning a value to a variable \n",
    "era = input(\"Type year, month, and date, e.g., 20150613: \") #this is assigning a value to a variable \n",
    "url = \"http://archive.org/wayback/available?url=%s&timestamp=%s\" % (site, era) #this is importing a library?\n",
    "response = requests.get(url)\n",
    "data = response.json()\n",
    "try:\n",
    "    old_site = data[\"archived_snapshots\"][\"closest\"][\"url\"]\n",
    "    print(\"Found this copy: \", old_site) #this is printing the text  \n",
    "    print(\"It should appear in your browser.\") #this is printing the text\n",
    "    webbrowser.open(old_site)\n",
    "except:\n",
    "    print(\"Sorry, could not find the site.\") #this is printing the text\n"
   ]
  },
  {
   "cell_type": "markdown",
   "id": "a27747fc",
   "metadata": {},
   "source": []
  }
 ],
 "metadata": {
  "kernelspec": {
   "display_name": "Python 3 (ipykernel)",
   "language": "python",
   "name": "python3"
  },
  "language_info": {
   "codemirror_mode": {
    "name": "ipython",
    "version": 3
   },
   "file_extension": ".py",
   "mimetype": "text/x-python",
   "name": "python",
   "nbconvert_exporter": "python",
   "pygments_lexer": "ipython3",
   "version": "3.10.9"
  }
 },
 "nbformat": 4,
 "nbformat_minor": 5
}
